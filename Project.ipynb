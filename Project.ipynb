{
 "cells": [
  {
   "cell_type": "code",
   "execution_count": null,
   "metadata": {
    "scrolled": true
   },
   "outputs": [],
   "source": [
    "from keras.models import Sequential\n",
    "from keras.layers import Flatten, Dense, Lambda, Cropping2D, Dropout\n",
    "from keras.layers.convolutional import Convolution2D, Conv2D\n",
    "import matplotlib.image as mpimg\n",
    "import matplotlib.pyplot as plt\n",
    "import numpy as np\n",
    "import os\n",
    "import csv\n",
    "from sklearn.model_selection import train_test_split\n",
    "import sklearn\n",
    "import keras"
   ]
  },
  {
   "cell_type": "code",
   "execution_count": null,
   "metadata": {},
   "outputs": [],
   "source": [
    "lines = []\n",
    "data_path = './data/'\n",
    "with open(os.path.join(data_path, 'driving_log.csv')) as csvfile:\n",
    "    reader = csv.reader(csvfile)\n",
    "    for line in reader:\n",
    "        lines.append(line)"
   ]
  },
  {
   "cell_type": "code",
   "execution_count": null,
   "metadata": {},
   "outputs": [],
   "source": [
    "center_images = []\n",
    "left_images = []\n",
    "right_images = []\n",
    "angles = []\n",
    "\n",
    "for line in lines:\n",
    "    center_img = line[0]\n",
    "    left_img = line[1].strip()\n",
    "    right_img = line[2].strip()\n",
    "    \n",
    "    center_images.append(center_img)\n",
    "    left_images.append(left_img)\n",
    "    right_images.append(right_img)\n",
    "    angles.append(np.float(line[3]))"
   ]
  },
  {
   "cell_type": "code",
   "execution_count": null,
   "metadata": {},
   "outputs": [],
   "source": [
    "correction = 0.2\n",
    "\n",
    "total_images = []\n",
    "total_angles = []\n",
    "\n",
    "total_images.extend(center_images)\n",
    "total_images.extend(left_images)\n",
    "total_images.extend(right_images)\n",
    "\n",
    "total_angles.extend(angles)\n",
    "total_angles.extend([angle + correction for angle in angles])\n",
    "total_angles.extend([angle - correction for angle in angles])"
   ]
  },
  {
   "cell_type": "code",
   "execution_count": null,
   "metadata": {},
   "outputs": [],
   "source": [
    "samples = list(zip(total_images, total_angles))\n",
    "\n",
    "# Randomly split data into training and validation.\n",
    "train_samples, validation_samples = train_test_split(samples, test_size=0.2)"
   ]
  },
  {
   "cell_type": "code",
   "execution_count": null,
   "metadata": {},
   "outputs": [],
   "source": [
    "# Generator function\n",
    "def generator(samples, batch_size=32):\n",
    "    num_samples = len(samples)\n",
    "    while 1: # Loop forever so the generator never terminates\n",
    "        for offset in range(0, num_samples, batch_size):\n",
    "            batch_samples = samples[offset:offset+batch_size]\n",
    "\n",
    "            images = []\n",
    "            angles = []\n",
    "            for batch_sample in batch_samples:\n",
    "                name = os.path.join(data_path, 'IMG/') + batch_sample[0].split('/')[-1]\n",
    "                image = mpimg.imread(name)\n",
    "                angle = float(batch_sample[1])\n",
    "                images.append(image)\n",
    "                angles.append(angle)\n",
    "                images.append(np.fliplr(image))\n",
    "                angles.append(-angle)\n",
    "\n",
    "            X_train = np.array(images)\n",
    "            y_train = np.array(angles)\n",
    "            yield sklearn.utils.shuffle(X_train, y_train)"
   ]
  },
  {
   "cell_type": "code",
   "execution_count": null,
   "metadata": {},
   "outputs": [],
   "source": [
    "b_size = 32\n",
    "train_generator = generator(train_samples, batch_size=b_size)\n",
    "validation_generator = generator(validation_samples, batch_size=b_size)"
   ]
  },
  {
   "cell_type": "code",
   "execution_count": null,
   "metadata": {},
   "outputs": [],
   "source": [
    "model = Sequential()\n",
    "# Preprocessing - Crop some top and bottom pixels and normalization.\n",
    "model.add(Cropping2D(cropping=((65,25), (0,0)), input_shape=(160,320,3)))\n",
    "model.add(Lambda(lambda x: (x / 255.0) - 0.5))\n",
    "# NVIDIA's architecture \n",
    "model.add(Conv2D(24, (5, 5), strides=(2,2), activation='relu'))\n",
    "model.add(Conv2D(36, (5, 5), strides=(2,2), activation='relu'))\n",
    "model.add(Conv2D(48, (5, 5), strides=(2,2), activation='relu'))\n",
    "model.add(Conv2D(64, (3, 3), activation='relu'))\n",
    "model.add(Conv2D(64, (3, 3), activation='relu'))\n",
    "model.add(Flatten())\n",
    "model.add(Dense(100))\n",
    "model.add(Dropout(0.01))\n",
    "model.add(Dense(50))\n",
    "model.add(Dropout(0.01))\n",
    "model.add(Dense(10))\n",
    "model.add(Dropout(0.01))\n",
    "model.add(Dense(1))"
   ]
  },
  {
   "cell_type": "code",
   "execution_count": null,
   "metadata": {},
   "outputs": [],
   "source": [
    "model.summary()"
   ]
  },
  {
   "cell_type": "code",
   "execution_count": null,
   "metadata": {},
   "outputs": [],
   "source": [
    "# Compile the model\n",
    "model.compile(optimizer='adam', loss='mse')"
   ]
  },
  {
   "cell_type": "code",
   "execution_count": null,
   "metadata": {},
   "outputs": [],
   "source": [
    "filepath = \"saved-model-{epoch:02d}-{val_acc:.2f}.hdf5\"\n",
    "checkpoint = keras.callbacks.ModelCheckpoint(filepath, verbose=1, save_best_only=False, mode='max')"
   ]
  },
  {
   "cell_type": "code",
   "execution_count": null,
   "metadata": {},
   "outputs": [],
   "source": [
    "hist = model.fit_generator(train_generator, steps_per_epoch=len(train_samples) // b_size, \n",
    "                           validation_data=validation_generator, \n",
    "                           validation_steps=len(validation_samples) // b_size, \n",
    "                           epochs=50, callbacks=[checkpoint])"
   ]
  },
  {
   "cell_type": "code",
   "execution_count": null,
   "metadata": {},
   "outputs": [],
   "source": [
    "model.save('model.h5')"
   ]
  },
  {
   "cell_type": "code",
   "execution_count": null,
   "metadata": {
    "scrolled": true
   },
   "outputs": [],
   "source": [
    "# print the keys contained in the history object\n",
    "print(hist.history.keys())\n",
    "\n",
    "# plot the training and validation loss for each epoch\n",
    "import matplotlib.pyplot as plt\n",
    "plt.plot(hist.history['loss'])\n",
    "plt.plot(hist.history['val_loss'])\n",
    "plt.title('model mean squared error loss')\n",
    "plt.ylabel('mean squared error loss')\n",
    "plt.xlabel('epoch')\n",
    "plt.legend(['training set', 'validation set'], loc='upper right')"
   ]
  },
  {
   "cell_type": "code",
   "execution_count": null,
   "metadata": {},
   "outputs": [],
   "source": []
  }
 ],
 "metadata": {
  "kernelspec": {
   "display_name": "Python 3",
   "language": "python",
   "name": "python3"
  },
  "language_info": {
   "codemirror_mode": {
    "name": "ipython",
    "version": 3
   },
   "file_extension": ".py",
   "mimetype": "text/x-python",
   "name": "python",
   "nbconvert_exporter": "python",
   "pygments_lexer": "ipython3",
   "version": "3.5.6"
  }
 },
 "nbformat": 4,
 "nbformat_minor": 4
}
