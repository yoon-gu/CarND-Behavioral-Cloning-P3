{
 "cells": [
  {
   "cell_type": "code",
   "execution_count": 1,
   "metadata": {
    "scrolled": true
   },
   "outputs": [
    {
     "name": "stderr",
     "output_type": "stream",
     "text": [
      "Using TensorFlow backend.\n"
     ]
    }
   ],
   "source": [
    "from keras.models import Sequential\n",
    "from keras.layers import Flatten, Dense, Lambda, Cropping2D, Dropout\n",
    "from keras.layers.convolutional import Convolution2D, Conv2D\n",
    "import matplotlib.image as mpimg\n",
    "import matplotlib.pyplot as plt\n",
    "import numpy as np\n",
    "import os\n",
    "import csv\n",
    "from sklearn.model_selection import train_test_split\n",
    "import sklearn\n",
    "import keras"
   ]
  },
  {
   "cell_type": "code",
   "execution_count": 2,
   "metadata": {},
   "outputs": [],
   "source": [
    "lines = []\n",
    "data_path = './data/'\n",
    "with open(os.path.join(data_path, 'driving_log.csv')) as csvfile:\n",
    "    reader = csv.reader(csvfile)\n",
    "    for line in reader:\n",
    "        lines.append(line)"
   ]
  },
  {
   "cell_type": "code",
   "execution_count": 3,
   "metadata": {},
   "outputs": [],
   "source": [
    "center_images = []\n",
    "left_images = []\n",
    "right_images = []\n",
    "angles = []\n",
    "\n",
    "for line in lines:\n",
    "    center_img = line[0]\n",
    "    left_img = line[1].strip()\n",
    "    right_img = line[2].strip()\n",
    "    \n",
    "    center_images.append(center_img)\n",
    "    left_images.append(left_img)\n",
    "    right_images.append(right_img)\n",
    "    angles.append(np.float(line[3]))"
   ]
  },
  {
   "cell_type": "code",
   "execution_count": 4,
   "metadata": {},
   "outputs": [],
   "source": [
    "correction = 0.2\n",
    "\n",
    "total_images = []\n",
    "total_angles = []\n",
    "\n",
    "total_images.extend(center_images)\n",
    "total_images.extend(left_images)\n",
    "total_images.extend(right_images)\n",
    "\n",
    "total_angles.extend(angles)\n",
    "total_angles.extend([angle + correction for angle in angles])\n",
    "total_angles.extend([angle - correction for angle in angles])"
   ]
  },
  {
   "cell_type": "code",
   "execution_count": 5,
   "metadata": {},
   "outputs": [],
   "source": [
    "samples = list(zip(total_images, total_angles))\n",
    "\n",
    "# Randomly split data into training and validation.\n",
    "train_samples, validation_samples = train_test_split(samples, test_size=0.2)"
   ]
  },
  {
   "cell_type": "code",
   "execution_count": 6,
   "metadata": {},
   "outputs": [],
   "source": [
    "# Generator function\n",
    "def generator(samples, batch_size=32):\n",
    "    num_samples = len(samples)\n",
    "    while 1: # Loop forever so the generator never terminates\n",
    "        for offset in range(0, num_samples, batch_size):\n",
    "            batch_samples = samples[offset:offset+batch_size]\n",
    "\n",
    "            images = []\n",
    "            angles = []\n",
    "            for batch_sample in batch_samples:\n",
    "                name = os.path.join(data_path, 'IMG/') + batch_sample[0].split('/')[-1]\n",
    "                image_path = mpimg.imread(name)\n",
    "                angle = float(batch_sample[1])\n",
    "                images.append(image_path)\n",
    "                angles.append(angle)\n",
    "\n",
    "            X_train = np.array(images)\n",
    "            y_train = np.array(angles)\n",
    "            yield sklearn.utils.shuffle(X_train, y_train)"
   ]
  },
  {
   "cell_type": "code",
   "execution_count": 7,
   "metadata": {},
   "outputs": [],
   "source": [
    "b_size = 32\n",
    "train_generator = generator(train_samples, batch_size=b_size)\n",
    "validation_generator = generator(validation_samples, batch_size=b_size)"
   ]
  },
  {
   "cell_type": "code",
   "execution_count": 8,
   "metadata": {},
   "outputs": [],
   "source": [
    "model = Sequential()\n",
    "# Preprocessing - Crop some top and bottom pixels and normalization.\n",
    "model.add(Cropping2D(cropping=((65,25), (0,0)), input_shape=(160,320,3)))\n",
    "model.add(Lambda(lambda x: (x / 255.0) - 0.5))\n",
    "# NVIDIA's architecture \n",
    "model.add(Conv2D(24, (5, 5), strides=(2,2), activation='relu'))\n",
    "model.add(Conv2D(36, (5, 5), strides=(2,2), activation='relu'))\n",
    "model.add(Conv2D(48, (5, 5), strides=(2,2), activation='relu'))\n",
    "model.add(Conv2D(64, (3, 3), activation='relu'))\n",
    "model.add(Conv2D(64, (3, 3), activation='relu'))\n",
    "model.add(Flatten())\n",
    "model.add(Dense(100))\n",
    "model.add(Dropout(0.01))\n",
    "model.add(Dense(50))\n",
    "model.add(Dropout(0.01))\n",
    "model.add(Dense(10))\n",
    "model.add(Dropout(0.01))\n",
    "model.add(Dense(1))"
   ]
  },
  {
   "cell_type": "code",
   "execution_count": 9,
   "metadata": {},
   "outputs": [
    {
     "name": "stdout",
     "output_type": "stream",
     "text": [
      "_________________________________________________________________\n",
      "Layer (type)                 Output Shape              Param #   \n",
      "=================================================================\n",
      "cropping2d_1 (Cropping2D)    (None, 70, 320, 3)        0         \n",
      "_________________________________________________________________\n",
      "lambda_1 (Lambda)            (None, 70, 320, 3)        0         \n",
      "_________________________________________________________________\n",
      "conv2d_1 (Conv2D)            (None, 33, 158, 24)       1824      \n",
      "_________________________________________________________________\n",
      "conv2d_2 (Conv2D)            (None, 15, 77, 36)        21636     \n",
      "_________________________________________________________________\n",
      "conv2d_3 (Conv2D)            (None, 6, 37, 48)         43248     \n",
      "_________________________________________________________________\n",
      "conv2d_4 (Conv2D)            (None, 4, 35, 64)         27712     \n",
      "_________________________________________________________________\n",
      "conv2d_5 (Conv2D)            (None, 2, 33, 64)         36928     \n",
      "_________________________________________________________________\n",
      "flatten_1 (Flatten)          (None, 4224)              0         \n",
      "_________________________________________________________________\n",
      "dense_1 (Dense)              (None, 100)               422500    \n",
      "_________________________________________________________________\n",
      "dropout_1 (Dropout)          (None, 100)               0         \n",
      "_________________________________________________________________\n",
      "dense_2 (Dense)              (None, 50)                5050      \n",
      "_________________________________________________________________\n",
      "dropout_2 (Dropout)          (None, 50)                0         \n",
      "_________________________________________________________________\n",
      "dense_3 (Dense)              (None, 10)                510       \n",
      "_________________________________________________________________\n",
      "dropout_3 (Dropout)          (None, 10)                0         \n",
      "_________________________________________________________________\n",
      "dense_4 (Dense)              (None, 1)                 11        \n",
      "=================================================================\n",
      "Total params: 559,419\n",
      "Trainable params: 559,419\n",
      "Non-trainable params: 0\n",
      "_________________________________________________________________\n"
     ]
    }
   ],
   "source": [
    "model.summary()"
   ]
  },
  {
   "cell_type": "code",
   "execution_count": 10,
   "metadata": {},
   "outputs": [],
   "source": [
    "# Compile the model\n",
    "model.compile(optimizer='adam', loss='mse')"
   ]
  },
  {
   "cell_type": "code",
   "execution_count": null,
   "metadata": {},
   "outputs": [],
   "source": [
    "filepath = \"saved-model-{epoch:02d}-{val_acc:.2f}.hdf5\"\n",
    "checkpoint = ModelCheckpoint(filepath, monitor='val_acc', verbose=1, save_best_only=False, mode='max')"
   ]
  },
  {
   "cell_type": "code",
   "execution_count": null,
   "metadata": {},
   "outputs": [
    {
     "name": "stdout",
     "output_type": "stream",
     "text": [
      "Epoch 1/10\n",
      "950/950 [==============================] - 350s 368ms/step - loss: 0.0263 - val_loss: 0.0220\n",
      "Epoch 2/10\n",
      "950/950 [==============================] - 345s 364ms/step - loss: 0.0223 - val_loss: 0.0219\n",
      "Epoch 3/10\n",
      "950/950 [==============================] - 361s 380ms/step - loss: 0.0217 - val_loss: 0.0215\n",
      "Epoch 4/10\n",
      "950/950 [==============================] - 347s 366ms/step - loss: 0.0211 - val_loss: 0.0205\n",
      "Epoch 5/10\n",
      "950/950 [==============================] - 364s 383ms/step - loss: 0.0206 - val_loss: 0.0200\n",
      "Epoch 6/10\n",
      "950/950 [==============================] - 339s 357ms/step - loss: 0.0202 - val_loss: 0.0203\n",
      "Epoch 7/10\n",
      "950/950 [==============================] - 320s 336ms/step - loss: 0.0196 - val_loss: 0.0212\n",
      "Epoch 8/10\n",
      "950/950 [==============================] - 318s 335ms/step - loss: 0.0190 - val_loss: 0.0212\n",
      "Epoch 9/10\n",
      " 85/950 [=>............................] - ETA: 4:33 - loss: 0.0203"
     ]
    }
   ],
   "source": [
    "hist = model.fit_generator(train_generator, steps_per_epoch=len(train_samples) // b_size, \n",
    "                           validation_data=validation_generator, \n",
    "                           validation_steps=len(validation_samples) // b_size, \n",
    "                           epochs=10)"
   ]
  },
  {
   "cell_type": "code",
   "execution_count": null,
   "metadata": {},
   "outputs": [],
   "source": [
    "model.save('model.h5')"
   ]
  },
  {
   "cell_type": "code",
   "execution_count": null,
   "metadata": {
    "scrolled": true
   },
   "outputs": [],
   "source": [
    "# print the keys contained in the history object\n",
    "print(hist.history.keys())\n",
    "\n",
    "# plot the training and validation loss for each epoch\n",
    "import matplotlib.pyplot as plt\n",
    "plt.plot(hist.history['loss'])\n",
    "plt.plot(hist.history['val_loss'])\n",
    "plt.title('model mean squared error loss')\n",
    "plt.ylabel('mean squared error loss')\n",
    "plt.xlabel('epoch')\n",
    "plt.legend(['training set', 'validation set'], loc='upper right')"
   ]
  },
  {
   "cell_type": "code",
   "execution_count": null,
   "metadata": {},
   "outputs": [],
   "source": []
  }
 ],
 "metadata": {
  "kernelspec": {
   "display_name": "Python 3",
   "language": "python",
   "name": "python3"
  },
  "language_info": {
   "codemirror_mode": {
    "name": "ipython",
    "version": 3
   },
   "file_extension": ".py",
   "mimetype": "text/x-python",
   "name": "python",
   "nbconvert_exporter": "python",
   "pygments_lexer": "ipython3",
   "version": "3.5.6"
  }
 },
 "nbformat": 4,
 "nbformat_minor": 4
}
