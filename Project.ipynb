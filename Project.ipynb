{
 "cells": [
  {
   "cell_type": "code",
   "execution_count": 1,
   "metadata": {},
   "outputs": [
    {
     "name": "stderr",
     "output_type": "stream",
     "text": [
      "Using TensorFlow backend.\n"
     ]
    }
   ],
   "source": [
    "from keras.models import Sequential\n",
    "from keras.layers import Flatten, Dense\n",
    "import pandas as pd\n",
    "from pprint import pprint\n",
    "import matplotlib.image as mpimg\n",
    "import matplotlib.pyplot as plt\n",
    "import numpy as np\n",
    "from keras.applications.inception_v3 import InceptionV3\n",
    "import keras.backend as K"
   ]
  },
  {
   "cell_type": "code",
   "execution_count": 2,
   "metadata": {},
   "outputs": [
    {
     "data": {
      "text/html": [
       "<div>\n",
       "<style scoped>\n",
       "    .dataframe tbody tr th:only-of-type {\n",
       "        vertical-align: middle;\n",
       "    }\n",
       "\n",
       "    .dataframe tbody tr th {\n",
       "        vertical-align: top;\n",
       "    }\n",
       "\n",
       "    .dataframe thead th {\n",
       "        text-align: right;\n",
       "    }\n",
       "</style>\n",
       "<table border=\"1\" class=\"dataframe\">\n",
       "  <thead>\n",
       "    <tr style=\"text-align: right;\">\n",
       "      <th></th>\n",
       "      <th>0</th>\n",
       "      <th>1</th>\n",
       "      <th>2</th>\n",
       "      <th>3</th>\n",
       "      <th>4</th>\n",
       "      <th>5</th>\n",
       "      <th>6</th>\n",
       "    </tr>\n",
       "  </thead>\n",
       "  <tbody>\n",
       "    <tr>\n",
       "      <th>0</th>\n",
       "      <td>data2/IMG/center_2020_03_16_00_29_48_632.jpg</td>\n",
       "      <td>data2/IMG/left_2020_03_16_00_29_48_632.jpg</td>\n",
       "      <td>data2/IMG/right_2020_03_16_00_29_48_632.jpg</td>\n",
       "      <td>0.0</td>\n",
       "      <td>0.0</td>\n",
       "      <td>0.0</td>\n",
       "      <td>0.000078</td>\n",
       "    </tr>\n",
       "    <tr>\n",
       "      <th>1</th>\n",
       "      <td>data2/IMG/center_2020_03_16_00_29_48_735.jpg</td>\n",
       "      <td>data2/IMG/left_2020_03_16_00_29_48_735.jpg</td>\n",
       "      <td>data2/IMG/right_2020_03_16_00_29_48_735.jpg</td>\n",
       "      <td>0.0</td>\n",
       "      <td>0.0</td>\n",
       "      <td>0.0</td>\n",
       "      <td>0.000079</td>\n",
       "    </tr>\n",
       "    <tr>\n",
       "      <th>2</th>\n",
       "      <td>data2/IMG/center_2020_03_16_00_29_48_837.jpg</td>\n",
       "      <td>data2/IMG/left_2020_03_16_00_29_48_837.jpg</td>\n",
       "      <td>data2/IMG/right_2020_03_16_00_29_48_837.jpg</td>\n",
       "      <td>0.0</td>\n",
       "      <td>0.0</td>\n",
       "      <td>0.0</td>\n",
       "      <td>0.000078</td>\n",
       "    </tr>\n",
       "    <tr>\n",
       "      <th>3</th>\n",
       "      <td>data2/IMG/center_2020_03_16_00_29_48_949.jpg</td>\n",
       "      <td>data2/IMG/left_2020_03_16_00_29_48_949.jpg</td>\n",
       "      <td>data2/IMG/right_2020_03_16_00_29_48_949.jpg</td>\n",
       "      <td>0.0</td>\n",
       "      <td>0.0</td>\n",
       "      <td>0.0</td>\n",
       "      <td>0.000079</td>\n",
       "    </tr>\n",
       "    <tr>\n",
       "      <th>4</th>\n",
       "      <td>data2/IMG/center_2020_03_16_00_29_49_055.jpg</td>\n",
       "      <td>data2/IMG/left_2020_03_16_00_29_49_055.jpg</td>\n",
       "      <td>data2/IMG/right_2020_03_16_00_29_49_055.jpg</td>\n",
       "      <td>0.0</td>\n",
       "      <td>0.0</td>\n",
       "      <td>0.0</td>\n",
       "      <td>0.000078</td>\n",
       "    </tr>\n",
       "  </tbody>\n",
       "</table>\n",
       "</div>"
      ],
      "text/plain": [
       "                                              0  \\\n",
       "0  data2/IMG/center_2020_03_16_00_29_48_632.jpg   \n",
       "1  data2/IMG/center_2020_03_16_00_29_48_735.jpg   \n",
       "2  data2/IMG/center_2020_03_16_00_29_48_837.jpg   \n",
       "3  data2/IMG/center_2020_03_16_00_29_48_949.jpg   \n",
       "4  data2/IMG/center_2020_03_16_00_29_49_055.jpg   \n",
       "\n",
       "                                             1  \\\n",
       "0   data2/IMG/left_2020_03_16_00_29_48_632.jpg   \n",
       "1   data2/IMG/left_2020_03_16_00_29_48_735.jpg   \n",
       "2   data2/IMG/left_2020_03_16_00_29_48_837.jpg   \n",
       "3   data2/IMG/left_2020_03_16_00_29_48_949.jpg   \n",
       "4   data2/IMG/left_2020_03_16_00_29_49_055.jpg   \n",
       "\n",
       "                                              2    3    4    5         6  \n",
       "0   data2/IMG/right_2020_03_16_00_29_48_632.jpg  0.0  0.0  0.0  0.000078  \n",
       "1   data2/IMG/right_2020_03_16_00_29_48_735.jpg  0.0  0.0  0.0  0.000079  \n",
       "2   data2/IMG/right_2020_03_16_00_29_48_837.jpg  0.0  0.0  0.0  0.000078  \n",
       "3   data2/IMG/right_2020_03_16_00_29_48_949.jpg  0.0  0.0  0.0  0.000079  \n",
       "4   data2/IMG/right_2020_03_16_00_29_49_055.jpg  0.0  0.0  0.0  0.000078  "
      ]
     },
     "execution_count": 2,
     "metadata": {},
     "output_type": "execute_result"
    }
   ],
   "source": [
    "df = pd.read_csv('./data2/driving_log.csv', header=None)\n",
    "df.head()"
   ]
  },
  {
   "cell_type": "code",
   "execution_count": 3,
   "metadata": {
    "scrolled": false
   },
   "outputs": [],
   "source": [
    "center_img_paths = df[0].values.tolist()# + df[1].values.tolist() + df[2].values.tolist()\n",
    "x_train = np.array([mpimg.imread(img_path.strip()) for img_path in center_img_paths])\n",
    "y_train = np.array(df[3].values.tolist())"
   ]
  },
  {
   "cell_type": "code",
   "execution_count": 4,
   "metadata": {},
   "outputs": [],
   "source": [
    "x_train_flip = np.array([np.fliplr(img) for img in x_train])\n",
    "y_train_flip = -y_train.copy()"
   ]
  },
  {
   "cell_type": "code",
   "execution_count": 5,
   "metadata": {},
   "outputs": [],
   "source": [
    "input_size = 139\n",
    "inception = InceptionV3(weights='imagenet', include_top=False,\n",
    "                        input_shape=(input_size,input_size,3))"
   ]
  },
  {
   "cell_type": "code",
   "execution_count": 6,
   "metadata": {},
   "outputs": [],
   "source": [
    "for layer in inception.layers:\n",
    "    layer.trainable = False"
   ]
  },
  {
   "cell_type": "code",
   "execution_count": 7,
   "metadata": {},
   "outputs": [],
   "source": [
    "from keras.layers import Input, Lambda\n",
    "# import tensorflow as tf\n",
    "\n",
    "# Makes the input placeholder layer 160x320x3\n",
    "sim_input = Input(shape=(160, 320, 3))\n",
    "\n",
    "# Re-sizes the input with Kera's Lambda layer & attach to sim_input\n",
    "def resize_method(image):\n",
    "    import tensorflow as tf\n",
    "    return tf.image.resize_images(image, (138, 139))\n",
    "    \n",
    "resized_input = Lambda(resize_method)(sim_input)\n",
    "\n",
    "# Feeds the re-sized input into Inception model\n",
    "# You will need to update the model name if you changed it earlier!\n",
    "inp = inception(resized_input)"
   ]
  },
  {
   "cell_type": "code",
   "execution_count": 8,
   "metadata": {},
   "outputs": [],
   "source": [
    "fc1 = Dense(256, activation='relu')(Flatten()(inp))\n",
    "predictions = Dense(1)(fc1)"
   ]
  },
  {
   "cell_type": "code",
   "execution_count": 9,
   "metadata": {},
   "outputs": [
    {
     "name": "stdout",
     "output_type": "stream",
     "text": [
      "_________________________________________________________________\n",
      "Layer (type)                 Output Shape              Param #   \n",
      "=================================================================\n",
      "input_2 (InputLayer)         (None, 160, 320, 3)       0         \n",
      "_________________________________________________________________\n",
      "lambda_1 (Lambda)            (None, 138, 139, 3)       0         \n",
      "_________________________________________________________________\n",
      "inception_v3 (Model)         multiple                  21802784  \n",
      "_________________________________________________________________\n",
      "flatten_1 (Flatten)          (None, 12288)             0         \n",
      "_________________________________________________________________\n",
      "dense_1 (Dense)              (None, 256)               3145984   \n",
      "_________________________________________________________________\n",
      "dense_2 (Dense)              (None, 1)                 257       \n",
      "=================================================================\n",
      "Total params: 24,949,025\n",
      "Trainable params: 3,146,241\n",
      "Non-trainable params: 21,802,784\n",
      "_________________________________________________________________\n"
     ]
    }
   ],
   "source": [
    "# Imports the Model API\n",
    "from keras.models import Model\n",
    "from keras.optimizers import Adam\n",
    "# Creates the model, assuming your final layer is named \"predictions\"\n",
    "model = Model(inputs=sim_input, outputs=predictions)\n",
    "\n",
    "# Compile the model\n",
    "model.compile(optimizer=Adam(lr=0.0001), loss='mse')\n",
    "\n",
    "# Check the summary of this new model to confirm the architecture\n",
    "model.summary()"
   ]
  },
  {
   "cell_type": "code",
   "execution_count": 10,
   "metadata": {},
   "outputs": [
    {
     "name": "stdout",
     "output_type": "stream",
     "text": [
      "Train on 4876 samples, validate on 1220 samples\n",
      "Epoch 1/2\n",
      "4876/4876 [==============================] - 221s 45ms/step - loss: 0.3392 - val_loss: 0.0914\n",
      "Epoch 2/2\n",
      "4876/4876 [==============================] - 217s 45ms/step - loss: 0.1228 - val_loss: 0.0803\n"
     ]
    }
   ],
   "source": [
    "hist = model.fit(x_train, y_train, validation_split=0.2, shuffle=True, batch_size=32, epochs=2)"
   ]
  },
  {
   "cell_type": "code",
   "execution_count": 15,
   "metadata": {},
   "outputs": [],
   "source": [
    "model.save('model_inception.h5')"
   ]
  },
  {
   "cell_type": "code",
   "execution_count": null,
   "metadata": {},
   "outputs": [],
   "source": []
  }
 ],
 "metadata": {
  "kernelspec": {
   "display_name": "Python 3",
   "language": "python",
   "name": "python3"
  },
  "language_info": {
   "codemirror_mode": {
    "name": "ipython",
    "version": 3
   },
   "file_extension": ".py",
   "mimetype": "text/x-python",
   "name": "python",
   "nbconvert_exporter": "python",
   "pygments_lexer": "ipython3",
   "version": "3.5.6"
  }
 },
 "nbformat": 4,
 "nbformat_minor": 4
}
